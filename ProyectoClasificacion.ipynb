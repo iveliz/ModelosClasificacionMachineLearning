{
  "nbformat": 4,
  "nbformat_minor": 0,
  "metadata": {
    "colab": {
      "provenance": [],
      "include_colab_link": true
    },
    "kernelspec": {
      "name": "python3",
      "display_name": "Python 3"
    },
    "language_info": {
      "name": "python"
    }
  },
  "cells": [
    {
      "cell_type": "markdown",
      "metadata": {
        "id": "view-in-github",
        "colab_type": "text"
      },
      "source": [
        "<a href=\"https://colab.research.google.com/github/iveliz/ModelosClasificacionMachineLearning/blob/develop/ProyectoClasificacion.ipynb\" target=\"_parent\"><img src=\"https://colab.research.google.com/assets/colab-badge.svg\" alt=\"Open In Colab\"/></a>"
      ]
    },
    {
      "cell_type": "code",
      "source": [
        "# !pip install pandas\n",
        "# !pip install sklearn"
      ],
      "metadata": {
        "id": "xeSu2cdDscrc"
      },
      "execution_count": null,
      "outputs": []
    },
    {
      "cell_type": "code",
      "source": [
        "# Libs de manipulacion de datos\n",
        "import matplotlib.pyplot as plt\n",
        "import pandas as pd\n",
        "import numpy as np\n",
        "import seaborn as sns\n",
        "# Libs de preprocesamineto y procesamiento\n",
        "from sklearn import preprocessing\n",
        "from sklearn.model_selection import train_test_split\n",
        "from sklearn.metrics import accuracy_score\n",
        "from sklearn.metrics import confusion_matrix, ConfusionMatrixDisplay\n",
        "#----- Para mostrar graficos y encodings\n",
        "from tabulate import tabulate\n",
        "# Matriz de confucion"
      ],
      "metadata": {
        "id": "sotC1XyEqWqM"
      },
      "execution_count": null,
      "outputs": []
    },
    {
      "cell_type": "code",
      "source": [
        "# chunks = [(0, 1133)] # \n",
        "chunks = [(2247, 8354)] #  Se lee desde la fila 2247 porque desde esta fila se cuenta con los 2 features adicionales (imps)\n",
        "df = pd.DataFrame()\n",
        "for start, end  in chunks:  \n",
        "  chunk = pd.read_csv('/content/drive/MyDrive/ML-LASTLONG/dataset_fuel_consumption_2016_2022.csv', \n",
        "              header=start, nrows=end, usecols=range(0,15)) #15\n",
        "  df = df.append(chunk)\n",
        "df = df.dropna() # Hacemos un drop de los que tengan valores (NaN) en tre sus celdas \n",
        "# df = df.drop(index=0).reset_index(drop=True)"
      ],
      "metadata": {
        "colab": {
          "base_uri": "https://localhost:8080/"
        },
        "id": "h_NT2nUkx74w",
        "outputId": "38816427-89bf-493b-86ca-e0a331334e8f"
      },
      "execution_count": null,
      "outputs": [
        {
          "output_type": "stream",
          "name": "stderr",
          "text": [
            "<ipython-input-4-e35b00fc101f>:7: FutureWarning: The frame.append method is deprecated and will be removed from pandas in a future version. Use pandas.concat instead.\n",
            "  df = df.append(chunk)\n"
          ]
        }
      ]
    },
    {
      "cell_type": "code",
      "source": [
        "# df = df.dropna() # Hacemos un drop de los que tengan valores (NaN) en tre sus celdas \n",
        "# df.head()"
      ],
      "metadata": {
        "id": "-r3R34mF79Ph"
      },
      "execution_count": null,
      "outputs": []
    },
    {
      "cell_type": "code",
      "source": [
        "# Verficamos que no existan mas valores NAN \n",
        "null_rows = df.isnull().any(axis=1)\n",
        "rows_with_nulls = df[null_rows]\n",
        "rows_with_nulls\n",
        "# df.isna().sum()\n",
        "\n",
        "# df = df.dropna() # NaN = Not a number"
      ],
      "metadata": {
        "colab": {
          "base_uri": "https://localhost:8080/",
          "height": 111
        },
        "id": "9KawzKA17d63",
        "outputId": "7e9625f3-59c3-4a95-9970-60646ed6ebb9"
      },
      "execution_count": null,
      "outputs": [
        {
          "output_type": "execute_result",
          "data": {
            "text/plain": [
              "Empty DataFrame\n",
              "Columns: [Model, Make, Model.1, Vehicle Class, Engine Size, Cylinders, Transmission, Fuel, Fuel Consumption, Unnamed: 9, Unnamed: 10, Unnamed: 11, CO2 Emissions, CO2, Smog]\n",
              "Index: []"
            ],
            "text/html": [
              "\n",
              "  <div id=\"df-9beb61ff-83f4-49c8-b70b-530b495e7be0\">\n",
              "    <div class=\"colab-df-container\">\n",
              "      <div>\n",
              "<style scoped>\n",
              "    .dataframe tbody tr th:only-of-type {\n",
              "        vertical-align: middle;\n",
              "    }\n",
              "\n",
              "    .dataframe tbody tr th {\n",
              "        vertical-align: top;\n",
              "    }\n",
              "\n",
              "    .dataframe thead th {\n",
              "        text-align: right;\n",
              "    }\n",
              "</style>\n",
              "<table border=\"1\" class=\"dataframe\">\n",
              "  <thead>\n",
              "    <tr style=\"text-align: right;\">\n",
              "      <th></th>\n",
              "      <th>Model</th>\n",
              "      <th>Make</th>\n",
              "      <th>Model.1</th>\n",
              "      <th>Vehicle Class</th>\n",
              "      <th>Engine Size</th>\n",
              "      <th>Cylinders</th>\n",
              "      <th>Transmission</th>\n",
              "      <th>Fuel</th>\n",
              "      <th>Fuel Consumption</th>\n",
              "      <th>Unnamed: 9</th>\n",
              "      <th>Unnamed: 10</th>\n",
              "      <th>Unnamed: 11</th>\n",
              "      <th>CO2 Emissions</th>\n",
              "      <th>CO2</th>\n",
              "      <th>Smog</th>\n",
              "    </tr>\n",
              "  </thead>\n",
              "  <tbody>\n",
              "  </tbody>\n",
              "</table>\n",
              "</div>\n",
              "      <button class=\"colab-df-convert\" onclick=\"convertToInteractive('df-9beb61ff-83f4-49c8-b70b-530b495e7be0')\"\n",
              "              title=\"Convert this dataframe to an interactive table.\"\n",
              "              style=\"display:none;\">\n",
              "        \n",
              "  <svg xmlns=\"http://www.w3.org/2000/svg\" height=\"24px\"viewBox=\"0 0 24 24\"\n",
              "       width=\"24px\">\n",
              "    <path d=\"M0 0h24v24H0V0z\" fill=\"none\"/>\n",
              "    <path d=\"M18.56 5.44l.94 2.06.94-2.06 2.06-.94-2.06-.94-.94-2.06-.94 2.06-2.06.94zm-11 1L8.5 8.5l.94-2.06 2.06-.94-2.06-.94L8.5 2.5l-.94 2.06-2.06.94zm10 10l.94 2.06.94-2.06 2.06-.94-2.06-.94-.94-2.06-.94 2.06-2.06.94z\"/><path d=\"M17.41 7.96l-1.37-1.37c-.4-.4-.92-.59-1.43-.59-.52 0-1.04.2-1.43.59L10.3 9.45l-7.72 7.72c-.78.78-.78 2.05 0 2.83L4 21.41c.39.39.9.59 1.41.59.51 0 1.02-.2 1.41-.59l7.78-7.78 2.81-2.81c.8-.78.8-2.07 0-2.86zM5.41 20L4 18.59l7.72-7.72 1.47 1.35L5.41 20z\"/>\n",
              "  </svg>\n",
              "      </button>\n",
              "      \n",
              "  <style>\n",
              "    .colab-df-container {\n",
              "      display:flex;\n",
              "      flex-wrap:wrap;\n",
              "      gap: 12px;\n",
              "    }\n",
              "\n",
              "    .colab-df-convert {\n",
              "      background-color: #E8F0FE;\n",
              "      border: none;\n",
              "      border-radius: 50%;\n",
              "      cursor: pointer;\n",
              "      display: none;\n",
              "      fill: #1967D2;\n",
              "      height: 32px;\n",
              "      padding: 0 0 0 0;\n",
              "      width: 32px;\n",
              "    }\n",
              "\n",
              "    .colab-df-convert:hover {\n",
              "      background-color: #E2EBFA;\n",
              "      box-shadow: 0px 1px 2px rgba(60, 64, 67, 0.3), 0px 1px 3px 1px rgba(60, 64, 67, 0.15);\n",
              "      fill: #174EA6;\n",
              "    }\n",
              "\n",
              "    [theme=dark] .colab-df-convert {\n",
              "      background-color: #3B4455;\n",
              "      fill: #D2E3FC;\n",
              "    }\n",
              "\n",
              "    [theme=dark] .colab-df-convert:hover {\n",
              "      background-color: #434B5C;\n",
              "      box-shadow: 0px 1px 3px 1px rgba(0, 0, 0, 0.15);\n",
              "      filter: drop-shadow(0px 1px 2px rgba(0, 0, 0, 0.3));\n",
              "      fill: #FFFFFF;\n",
              "    }\n",
              "  </style>\n",
              "\n",
              "      <script>\n",
              "        const buttonEl =\n",
              "          document.querySelector('#df-9beb61ff-83f4-49c8-b70b-530b495e7be0 button.colab-df-convert');\n",
              "        buttonEl.style.display =\n",
              "          google.colab.kernel.accessAllowed ? 'block' : 'none';\n",
              "\n",
              "        async function convertToInteractive(key) {\n",
              "          const element = document.querySelector('#df-9beb61ff-83f4-49c8-b70b-530b495e7be0');\n",
              "          const dataTable =\n",
              "            await google.colab.kernel.invokeFunction('convertToInteractive',\n",
              "                                                     [key], {});\n",
              "          if (!dataTable) return;\n",
              "\n",
              "          const docLinkHtml = 'Like what you see? Visit the ' +\n",
              "            '<a target=\"_blank\" href=https://colab.research.google.com/notebooks/data_table.ipynb>data table notebook</a>'\n",
              "            + ' to learn more about interactive tables.';\n",
              "          element.innerHTML = '';\n",
              "          dataTable['output_type'] = 'display_data';\n",
              "          await google.colab.output.renderOutput(dataTable, element);\n",
              "          const docLink = document.createElement('div');\n",
              "          docLink.innerHTML = docLinkHtml;\n",
              "          element.appendChild(docLink);\n",
              "        }\n",
              "      </script>\n",
              "    </div>\n",
              "  </div>\n",
              "  "
            ]
          },
          "metadata": {},
          "execution_count": 5
        }
      ]
    },
    {
      "cell_type": "markdown",
      "source": [
        "# **Renombramiento de features**\n",
        "Se renombran los features con los especificados en el proyecto"
      ],
      "metadata": {
        "id": "ICeCv3Vz8S4P"
      }
    },
    {
      "cell_type": "code",
      "source": [
        "# Creamos un dict con los nuevos nombres para los respectivos nombres ya capturados\n",
        "\n",
        "df.rename(columns = {'Model': 'MODEL YEAR', \n",
        "                     'Make': 'MAKE', 'Model.1': 'MODEL', 'Vehicle Class': 'VEHICLE CLASS','FUEL': 'FUEL TYPE', \n",
        "                     'Engine Size':'ENGINE SIZE (L)',                     \n",
        "                     'Transmission': 'TRANSMISSION',\n",
        "                     'Fuel':'FUEL TYPE',\n",
        "                     'Fuel Consumption':'FUEL CONSUMPTION CITY (L/100 km)', \n",
        "                     'Unnamed: 9':'FUEL CONSUMPTION HWY (L/100 km)', \n",
        "                     'Unnamed: 10':'FUEL CONSUMPTION COMB (L/100 km)',  \n",
        "                     'Unnamed: 11':'FUEL CONSUMPTION COMB (mpg)',   \n",
        "                     'CO2 Emissions':'CO2 EMISSIONS (g/km)',\n",
        "                     'CO2':'CO2 Rating',\n",
        "                     'Smog':'Smog Rating',\n",
        "                     }, \n",
        "                     inplace=True)\n",
        "\n",
        "df = df.astype({'MODEL YEAR': int, 'ENGINE SIZE (L)': float, 'Cylinders': int, \n",
        "                'FUEL CONSUMPTION CITY (L/100 km)': float, \n",
        "                'FUEL CONSUMPTION HWY (L/100 km)': float,\n",
        "                'FUEL CONSUMPTION COMB (L/100 km)': float,\n",
        "                'FUEL CONSUMPTION COMB (mpg)': int, 'CO2 EMISSIONS (g/km)': int, 'CO2 Rating':int, 'Smog Rating': int\n",
        "                })"
      ],
      "metadata": {
        "id": "CN5eIeNr8RPv"
      },
      "execution_count": null,
      "outputs": []
    },
    {
      "cell_type": "code",
      "source": [
        "# df.head()\n",
        "# df.isna().sum()\n",
        "# df.tail()\n",
        "# print(\"size:\",df.size)\n",
        "# print(\"size:\",df.shape)\n",
        "# df['Unnamed: 10 COMB (L/100 km)']\n",
        "# df['CYLINDERS'].value_counts()\n",
        "[i for i in df.columns]"
      ],
      "metadata": {
        "id": "YnJ5hzEEB19P",
        "colab": {
          "base_uri": "https://localhost:8080/"
        },
        "outputId": "e7c65d70-26d4-4dd3-de96-5cfbe68cd388"
      },
      "execution_count": null,
      "outputs": [
        {
          "output_type": "execute_result",
          "data": {
            "text/plain": [
              "['MODEL YEAR',\n",
              " 'MAKE',\n",
              " 'MODEL',\n",
              " 'VEHICLE CLASS',\n",
              " 'ENGINE SIZE (L)',\n",
              " 'Cylinders',\n",
              " 'TRANSMISSION',\n",
              " 'FUEL TYPE',\n",
              " 'FUEL CONSUMPTION CITY (L/100 km)',\n",
              " 'FUEL CONSUMPTION HWY (L/100 km)',\n",
              " 'FUEL CONSUMPTION COMB (L/100 km)',\n",
              " 'FUEL CONSUMPTION COMB (mpg)',\n",
              " 'CO2 EMISSIONS (g/km)',\n",
              " 'CO2 Rating',\n",
              " 'Smog Rating']"
            ]
          },
          "metadata": {},
          "execution_count": 4
        }
      ]
    },
    {
      "cell_type": "markdown",
      "source": [
        "# Exploracion de datos"
      ],
      "metadata": {
        "id": "L1XPVYr5wrxe"
      }
    },
    {
      "cell_type": "code",
      "source": [
        "plt.figure(figsize=(8, 15))  # set figure size\n",
        "df['MAKE'].value_counts().plot.barh()\n",
        "plt.xlabel('Recuento')\n",
        "plt.ylabel('Fabricante')\n",
        "plt.show()"
      ],
      "metadata": {
        "id": "yH5Fvp8KGEQ8"
      },
      "execution_count": null,
      "outputs": []
    },
    {
      "cell_type": "code",
      "source": [
        "# df['Smog'].value_counts()\n",
        "# sns.countplot(df['Smog Rating'])\n",
        "df.isna().sum()"
      ],
      "metadata": {
        "colab": {
          "base_uri": "https://localhost:8080/"
        },
        "id": "WhQz_lTHNFBv",
        "outputId": "9a60fd37-a883-40f7-a72b-c5d21bd60e8e"
      },
      "execution_count": null,
      "outputs": [
        {
          "output_type": "execute_result",
          "data": {
            "text/plain": [
              "MODEL YEAR                          0\n",
              "MAKE                                0\n",
              "MODEL                               0\n",
              "VEHICLE CLASS                       0\n",
              "ENGINE SIZE (L)                     0\n",
              "Cylinders                           0\n",
              "TRANSMISSION                        0\n",
              "FUEL TYPE                           0\n",
              "FUEL CONSUMPTION CITY (L/100 km)    0\n",
              "FUEL CONSUMPTION HWY (L/100 km)     0\n",
              "FUEL CONSUMPTION COMB (L/100 km)    0\n",
              "FUEL CONSUMPTION COMB (mpg)         0\n",
              "CO2 EMISSIONS (g/km)                0\n",
              "CO2 Rating                          0\n",
              "Smog Rating                         0\n",
              "dtype: int64"
            ]
          },
          "metadata": {},
          "execution_count": 5
        }
      ]
    },
    {
      "cell_type": "code",
      "source": [
        "sns.set_style('darkgrid')\n",
        "# create the countplot\n",
        "ax = sns.countplot(x=df['FUEL TYPE'])\n",
        "# set the x-axis label\n",
        "ax.set_xlabel('FUEL TYPE')\n",
        "# rotate the x-axis labels by 45 degrees\n",
        "plt.xticks(rotation=45)\n",
        "# display the plot\n",
        "plt.show()"
      ],
      "metadata": {
        "id": "NR7aie8Cf6C7"
      },
      "execution_count": null,
      "outputs": []
    },
    {
      "cell_type": "code",
      "source": [
        "df.columns"
      ],
      "metadata": {
        "colab": {
          "base_uri": "https://localhost:8080/"
        },
        "id": "YoRyViWu_P4l",
        "outputId": "38e041d9-9202-4354-8fb9-fe2556db51c5"
      },
      "execution_count": null,
      "outputs": [
        {
          "output_type": "execute_result",
          "data": {
            "text/plain": [
              "Index(['MODEL YEAR', 'MAKE', 'MODEL', 'VEHICLE CLASS', 'ENGINE SIZE (L)',\n",
              "       'Cylinders', 'TRANSMISSION', 'FUEL TYPE',\n",
              "       'FUEL CONSUMPTION CITY (L/100 km)', 'FUEL CONSUMPTION HWY (L/100 km)',\n",
              "       'FUEL CONSUMPTION COMB (L/100 km)', 'FUEL CONSUMPTION COMB (mpg)',\n",
              "       'CO2 EMISSIONS (g/km)', 'CO2 Rating', 'Smog Rating'],\n",
              "      dtype='object')"
            ]
          },
          "metadata": {},
          "execution_count": 5
        }
      ]
    },
    {
      "cell_type": "code",
      "source": [
        "# df_fueltype = df.groupby(['FUEL TYPE'],as_index=False).mean()\n",
        "# df_fueltype"
      ],
      "metadata": {
        "id": "Onpd6frKeZDU"
      },
      "execution_count": null,
      "outputs": []
    },
    {
      "cell_type": "markdown",
      "source": [],
      "metadata": {
        "id": "LVTVWfg5ggfs"
      }
    },
    {
      "cell_type": "markdown",
      "source": [
        "## **Codificación de datos tipo STR(Cadena)**\n",
        "Se ha de codificar (Porque la computadora y los modelos matemáticos sólo pueden trabajar con datos numéricos, por lo que es necesario codificar los tipos de datos de cadena en números): \n",
        "Para maker seria: \n",
        "\n",
        "| MAKE | EncodedLabel |\n",
        "| --- | --- | \n",
        "| ACURA | 0 |\n",
        "| ALFA ROMEO | 1 |\n",
        "| ASTON MARTIN | 2 |\n",
        "\n",
        "Para MODEL:\n",
        "\n",
        "| MODEL.1 | EncodedLabel |\n",
        "| --- | --- | \n",
        "| ILX | 355 |\n",
        "| ILX HYBRID | 356 |\n",
        "|  MDX SH-AWD | 422 |\n",
        "\n",
        "\n"
      ],
      "metadata": {
        "id": "wd6wMoyMepNF"
      }
    },
    {
      "cell_type": "code",
      "source": [
        "# df.columns"
      ],
      "metadata": {
        "colab": {
          "base_uri": "https://localhost:8080/"
        },
        "id": "XNEPjob0C4Xt",
        "outputId": "6c48d356-27df-45f5-be76-9e4c0718d565"
      },
      "execution_count": null,
      "outputs": [
        {
          "output_type": "execute_result",
          "data": {
            "text/plain": [
              "Index(['MODEL YEAR', 'MAKE', 'MODEL', 'VEHICLE CLASS', 'ENGINE SIZE (L)',\n",
              "       'Cylinders', 'TRANSMISSION', 'FUEL TYPE',\n",
              "       'FUEL CONSUMPTION CITY (L/100 km)', 'FUEL CONSUMPTION HWY (L/100 km)',\n",
              "       'FUEL CONSUMPTION COMB (L/100 km)', 'FUEL CONSUMPTION COMB (mpg)',\n",
              "       'CO2 EMISSIONS (g/km)', 'CO2 Rating', 'Smog Rating', 'MODEL.1'],\n",
              "      dtype='object')"
            ]
          },
          "metadata": {},
          "execution_count": 176
        }
      ]
    },
    {
      "cell_type": "code",
      "source": [
        "label_encoder = preprocessing.LabelEncoder()\n",
        "# PRE-TREATEMENT LABELING ----------- [IMP 1]\n",
        "make_values = label_encoder.fit_transform(df['MAKE'])\n",
        "model_values = label_encoder.fit_transform(df['MODEL'])\n",
        "vehicleClass_values = label_encoder.fit_transform(df['VEHICLE CLASS'])\n",
        "transmition_values = label_encoder.fit_transform(df['TRANSMISSION'])  #TRANSMISSION \n",
        "fuel_type = label_encoder.fit_transform(df['FUEL TYPE'])   \n",
        "\n",
        "# create a dictionary mapping original names to encoded labels\n",
        "make_to_label = dict(zip(df['MAKE'], make_values))\n",
        "model_to_label = dict(zip(df['MODEL'], model_values))\n",
        "vehicle_to_label = dict(zip(df['VEHICLE CLASS'], vehicleClass_values))\n",
        "transmition_to_label = dict(zip(df['TRANSMISSION'], transmition_values))\n",
        "fuel_to_label = dict(zip(df['FUEL TYPE'], fuel_type))\n",
        "\n",
        "# # create a table of original names and encoded labels\n",
        "# table1 = {'MAKE': list(make_to_label.keys()), 'EncodedLabel': list(make_to_label.values())}\n",
        "# table2 = {'MODEL': list(model_to_label.keys()), 'EncodedLabel': list(model_to_label.values())}\n",
        "# table3 = {'VEHICLE CLASS': list(vehicle_to_label.keys()), 'EncodedLabel': list(vehicle_to_label.values())}\n",
        "# table4 = {'TRANSMISSION': list(transmition_to_label.keys()), 'EncodedLabel': list(transmition_to_label.values())}\n",
        "# table5 = {'FUEL TYPE': list(fuel_to_label.keys()), 'EncodedLabel': list(fuel_to_label.values())}\n",
        "\n",
        "# TREATEMENT -----------[IMP 2]\n",
        "df['MAKE'] = label_encoder.fit_transform(df['MAKE']) # Nissan ->  2\n",
        "df['MODEL'] = label_encoder.fit_transform(df['MODEL']) # C -> 3\n",
        "df['VEHICLE CLASS'] = label_encoder.fit_transform(df['VEHICLE CLASS'])\n",
        "df['TRANSMISSION'] = label_encoder.fit_transform(df['TRANSMISSION'])  #TRANSMISSION \n",
        "df['FUEL TYPE'] = label_encoder.fit_transform(df['FUEL TYPE'])    "
      ],
      "metadata": {
        "id": "c36zc5gCnoT0"
      },
      "execution_count": null,
      "outputs": []
    },
    {
      "cell_type": "code",
      "source": [
        "from sklearn import tree\n",
        "clf = tree.DecisionTreeClassifier() #1200 primeras lineas (2) > 83 - 85 \n",
        "\n",
        "# ----------- TARGET -------: CO2 EMISSIONS  (g/km)\n",
        "X = df.drop(columns = ['CO2 EMISSIONS (g/km)'])\n",
        "y = df['CO2 EMISSIONS (g/km)']  # Nissan 5 D 15 45 5 5 dd ->  45\n",
        "X_train, X_test, y_train, y_test = train_test_split(X, y, test_size=0.20) # 20% 20\n",
        "model = clf.fit(X_train , y_train)"
      ],
      "metadata": {
        "id": "UiJUrjUvNw4W"
      },
      "execution_count": null,
      "outputs": []
    },
    {
      "cell_type": "code",
      "source": [
        "# print(tabulate(table2, headers=[list(table2.keys())[0], list(table2.keys())[1]], tablefmt=\"grid\"))\n",
        "#              table(n)              table(n)                table(n)"
      ],
      "metadata": {
        "id": "M3diQPDcSHNL"
      },
      "execution_count": null,
      "outputs": []
    },
    {
      "cell_type": "code",
      "source": [
        "predictions = model.predict(X_test) # Datos de prueba\n",
        "score = accuracy_score(y_test, predictions) # 50 <- # 50\n",
        "score  # \n",
        "# len(y_test)\n",
        "# print(y_test.item[0], predictions.item[0] )"
      ],
      "metadata": {
        "colab": {
          "base_uri": "https://localhost:8080/"
        },
        "id": "nzKIHGJ2K1An",
        "outputId": "3da0a0e3-5493-4bbf-9cd6-04fc2043b031"
      },
      "execution_count": null,
      "outputs": [
        {
          "output_type": "execute_result",
          "data": {
            "text/plain": [
              "0.5978705978705978"
            ]
          },
          "metadata": {},
          "execution_count": 9
        }
      ]
    },
    {
      "cell_type": "markdown",
      "source": [
        "# Recuento de datos "
      ],
      "metadata": {
        "id": "a0rpGiUeyA2b"
      }
    },
    {
      "cell_type": "code",
      "source": [
        "len(X_train) + len(y_test) # 4880 para entrenamiento y 1221 para testing  \n",
        " "
      ],
      "metadata": {
        "colab": {
          "base_uri": "https://localhost:8080/"
        },
        "id": "nMNUoppwxwOz",
        "outputId": "9f40be61-4604-4400-bb44-12de43d07a46"
      },
      "execution_count": null,
      "outputs": [
        {
          "output_type": "execute_result",
          "data": {
            "text/plain": [
              "6101"
            ]
          },
          "metadata": {},
          "execution_count": 16
        }
      ]
    },
    {
      "cell_type": "markdown",
      "source": [
        "# Metricas"
      ],
      "metadata": {
        "id": "CzpOJ2omvMg2"
      }
    },
    {
      "cell_type": "code",
      "source": [
        "from sklearn.metrics import confusion_matrix, classification_report, accuracy_score\n",
        "\n",
        "# assume y_true and y_pred are the true and predicted labels\n",
        "cm = confusion_matrix(y_test, predictions)\n",
        "num_correct = sum(np.diag(cm))\n",
        "num_incorrect = cm.sum() - num_correct\n",
        "print(f\"Number of correct predictions: {num_correct}\")\n",
        "print(f\"Number of incorrect predictions: {num_incorrect}\")"
      ],
      "metadata": {
        "id": "wyHRkZvVdvAn"
      },
      "execution_count": null,
      "outputs": []
    },
    {
      "cell_type": "code",
      "source": [
        "# from sklearn.metrics import precision_score\n",
        "# precision_score(y_test, predictions, average='macro')\n",
        "# from sklearn import metrics\n",
        "# fpr, tpr, thresholds = metrics.roc_curve(y_test, predictions, pos_label=30)\n",
        "# metrics.auc(fpr, tpr)\n",
        "from sklearn.metrics import hamming_loss\n",
        "# average_precision_score(y_test, predictions)\n",
        "hamming_loss(y_test, predictions)\n",
        "\n",
        "from sklearn.metrics import jaccard_score\n",
        "jaccard_score(y_test, predictions, average=\"micro\")"
      ],
      "metadata": {
        "colab": {
          "base_uri": "https://localhost:8080/"
        },
        "id": "hOHgknaqS5ks",
        "outputId": "bf9c2132-4258-477b-a00a-3cd295c35a1c"
      },
      "execution_count": null,
      "outputs": [
        {
          "output_type": "execute_result",
          "data": {
            "text/plain": [
              "0.48630553864881315"
            ]
          },
          "metadata": {},
          "execution_count": 85
        }
      ]
    },
    {
      "cell_type": "markdown",
      "source": [
        "# Pruebas con nuevos datos"
      ],
      "metadata": {
        "id": "2mpy9l8ky_TD"
      }
    },
    {
      "cell_type": "code",
      "source": [
        "import random\n",
        "random_make, random_make_value = random.choice(list(make_to_label.items()))\n",
        "random_model, random_model_value = random.choice(list(model_to_label.items()))\n",
        "random_vehicle, random_vehicle_value = random.choice(list(vehicle_to_label.items()))\n",
        "random_transmition, random_transmition_value = random.choice(list(transmition_to_label.items()))\n",
        "random_fuel, random_fuel_value  = random.choice(list(fuel_to_label.items()))\n",
        "\n",
        "# Print the randomly picked items \n",
        "print(f\"Make:          {random_make:{20}}        Value: {random_make_value}\")\n",
        "print(f\"Model:         {random_model:{21}}       Value: {random_model_value}\")\n",
        "print(f\"Vehicle Class: {random_vehicle:{25}}     Value: {random_vehicle_value}\")\n",
        "print(f\"Transmission:  {random_transmition:{25}} Value: {random_transmition_value}\")\n",
        "print(f\"Fuel Type:     {random_fuel:{20}}        Value: {random_fuel_value}\")"
      ],
      "metadata": {
        "colab": {
          "base_uri": "https://localhost:8080/"
        },
        "id": "b1NgooIZ1Lqd",
        "outputId": "52535e12-0c51-4301-cd72-5c82f53acb47"
      },
      "execution_count": null,
      "outputs": [
        {
          "output_type": "stream",
          "name": "stdout",
          "text": [
            "Make:          LEXUS                       Value: 42\n",
            "Model:         TRANSIT CONNECT VAN FFV       Value: 1739\n",
            "Vehicle Class: STATION WAGON - MID-SIZE      Value: 15\n",
            "Transmission:  A10                       Value: 0\n",
            "Fuel Type:     E                           Value: 1\n"
          ]
        }
      ]
    },
    {
      "cell_type": "code",
      "source": [
        "new_data = {'MODEL YEAR': 2018,\n",
        " 'MAKE': random_make_value,\n",
        " 'MODEL': random_model_value,\n",
        " 'VEHICLE CLASS': random_vehicle_value,\n",
        " 'ENGINE SIZE (L)': 2,\n",
        " 'Cylinders': 6,\n",
        " 'TRANSMISSION': random_transmition_value,\n",
        " 'FUEL TYPE': random_fuel_value,\n",
        " 'FUEL CONSUMPTION CITY (L/100 km)': 9.7,\n",
        " 'FUEL CONSUMPTION HWY (L/100 km)': 6.9,\n",
        " 'FUEL CONSUMPTION COMB (L/100 km)':10.3,\n",
        " 'FUEL CONSUMPTION COMB (mpg)': 34,\n",
        " 'CO2 Rating': 6,\n",
        " 'Smog Rating': 1}\n",
        "\n",
        "new_df = pd.DataFrame([new_data])\n",
        "# new_data = [[2019, 4, 200, 4, 1.8, 4, 3, 2, 8.0, 6.2, 7.0, 32, 7, 4]]\n",
        "prediction = model.predict(new_df)\n",
        "print(f\"Prediccion hecha para el DF: {new_df}---> \\n {prediction}\")"
      ],
      "metadata": {
        "colab": {
          "base_uri": "https://localhost:8080/"
        },
        "id": "0KHi0Iloy-be",
        "outputId": "687aee85-e930-497a-af9a-5c88ec670f12"
      },
      "execution_count": null,
      "outputs": [
        {
          "output_type": "execute_result",
          "data": {
            "text/plain": [
              "array([238])"
            ]
          },
          "metadata": {},
          "execution_count": 54
        }
      ]
    },
    {
      "cell_type": "code",
      "source": [
        "new_df"
      ],
      "metadata": {
        "colab": {
          "base_uri": "https://localhost:8080/",
          "height": 197
        },
        "id": "AMIQprfvFWea",
        "outputId": "7465d2ad-ab2d-44a8-cbac-e2c30ea6557c"
      },
      "execution_count": null,
      "outputs": [
        {
          "output_type": "execute_result",
          "data": {
            "text/plain": [
              "   MODEL YEAR  MAKE  MODEL  VEHICLE CLASS  ENGINE SIZE (L)  Cylinders  \\\n",
              "0        2018    42   1739             15                2          6   \n",
              "\n",
              "   TRANSMISSION  FUEL TYPE  FUEL CONSUMPTION CITY (L/100 km)  \\\n",
              "0             0          1                               9.7   \n",
              "\n",
              "   FUEL CONSUMPTION HWY (L/100 km)  FUEL CONSUMPTION COMB (L/100 km)  \\\n",
              "0                              6.9                              10.3   \n",
              "\n",
              "   FUEL CONSUMPTION COMB (mpg)  CO2 Rating  Smog Rating  \n",
              "0                           34           6            1  "
            ],
            "text/html": [
              "\n",
              "  <div id=\"df-ad476953-6be9-43b6-8cca-969454bacf7f\">\n",
              "    <div class=\"colab-df-container\">\n",
              "      <div>\n",
              "<style scoped>\n",
              "    .dataframe tbody tr th:only-of-type {\n",
              "        vertical-align: middle;\n",
              "    }\n",
              "\n",
              "    .dataframe tbody tr th {\n",
              "        vertical-align: top;\n",
              "    }\n",
              "\n",
              "    .dataframe thead th {\n",
              "        text-align: right;\n",
              "    }\n",
              "</style>\n",
              "<table border=\"1\" class=\"dataframe\">\n",
              "  <thead>\n",
              "    <tr style=\"text-align: right;\">\n",
              "      <th></th>\n",
              "      <th>MODEL YEAR</th>\n",
              "      <th>MAKE</th>\n",
              "      <th>MODEL</th>\n",
              "      <th>VEHICLE CLASS</th>\n",
              "      <th>ENGINE SIZE (L)</th>\n",
              "      <th>Cylinders</th>\n",
              "      <th>TRANSMISSION</th>\n",
              "      <th>FUEL TYPE</th>\n",
              "      <th>FUEL CONSUMPTION CITY (L/100 km)</th>\n",
              "      <th>FUEL CONSUMPTION HWY (L/100 km)</th>\n",
              "      <th>FUEL CONSUMPTION COMB (L/100 km)</th>\n",
              "      <th>FUEL CONSUMPTION COMB (mpg)</th>\n",
              "      <th>CO2 Rating</th>\n",
              "      <th>Smog Rating</th>\n",
              "    </tr>\n",
              "  </thead>\n",
              "  <tbody>\n",
              "    <tr>\n",
              "      <th>0</th>\n",
              "      <td>2018</td>\n",
              "      <td>42</td>\n",
              "      <td>1739</td>\n",
              "      <td>15</td>\n",
              "      <td>2</td>\n",
              "      <td>6</td>\n",
              "      <td>0</td>\n",
              "      <td>1</td>\n",
              "      <td>9.7</td>\n",
              "      <td>6.9</td>\n",
              "      <td>10.3</td>\n",
              "      <td>34</td>\n",
              "      <td>6</td>\n",
              "      <td>1</td>\n",
              "    </tr>\n",
              "  </tbody>\n",
              "</table>\n",
              "</div>\n",
              "      <button class=\"colab-df-convert\" onclick=\"convertToInteractive('df-ad476953-6be9-43b6-8cca-969454bacf7f')\"\n",
              "              title=\"Convert this dataframe to an interactive table.\"\n",
              "              style=\"display:none;\">\n",
              "        \n",
              "  <svg xmlns=\"http://www.w3.org/2000/svg\" height=\"24px\"viewBox=\"0 0 24 24\"\n",
              "       width=\"24px\">\n",
              "    <path d=\"M0 0h24v24H0V0z\" fill=\"none\"/>\n",
              "    <path d=\"M18.56 5.44l.94 2.06.94-2.06 2.06-.94-2.06-.94-.94-2.06-.94 2.06-2.06.94zm-11 1L8.5 8.5l.94-2.06 2.06-.94-2.06-.94L8.5 2.5l-.94 2.06-2.06.94zm10 10l.94 2.06.94-2.06 2.06-.94-2.06-.94-.94-2.06-.94 2.06-2.06.94z\"/><path d=\"M17.41 7.96l-1.37-1.37c-.4-.4-.92-.59-1.43-.59-.52 0-1.04.2-1.43.59L10.3 9.45l-7.72 7.72c-.78.78-.78 2.05 0 2.83L4 21.41c.39.39.9.59 1.41.59.51 0 1.02-.2 1.41-.59l7.78-7.78 2.81-2.81c.8-.78.8-2.07 0-2.86zM5.41 20L4 18.59l7.72-7.72 1.47 1.35L5.41 20z\"/>\n",
              "  </svg>\n",
              "      </button>\n",
              "      \n",
              "  <style>\n",
              "    .colab-df-container {\n",
              "      display:flex;\n",
              "      flex-wrap:wrap;\n",
              "      gap: 12px;\n",
              "    }\n",
              "\n",
              "    .colab-df-convert {\n",
              "      background-color: #E8F0FE;\n",
              "      border: none;\n",
              "      border-radius: 50%;\n",
              "      cursor: pointer;\n",
              "      display: none;\n",
              "      fill: #1967D2;\n",
              "      height: 32px;\n",
              "      padding: 0 0 0 0;\n",
              "      width: 32px;\n",
              "    }\n",
              "\n",
              "    .colab-df-convert:hover {\n",
              "      background-color: #E2EBFA;\n",
              "      box-shadow: 0px 1px 2px rgba(60, 64, 67, 0.3), 0px 1px 3px 1px rgba(60, 64, 67, 0.15);\n",
              "      fill: #174EA6;\n",
              "    }\n",
              "\n",
              "    [theme=dark] .colab-df-convert {\n",
              "      background-color: #3B4455;\n",
              "      fill: #D2E3FC;\n",
              "    }\n",
              "\n",
              "    [theme=dark] .colab-df-convert:hover {\n",
              "      background-color: #434B5C;\n",
              "      box-shadow: 0px 1px 3px 1px rgba(0, 0, 0, 0.15);\n",
              "      filter: drop-shadow(0px 1px 2px rgba(0, 0, 0, 0.3));\n",
              "      fill: #FFFFFF;\n",
              "    }\n",
              "  </style>\n",
              "\n",
              "      <script>\n",
              "        const buttonEl =\n",
              "          document.querySelector('#df-ad476953-6be9-43b6-8cca-969454bacf7f button.colab-df-convert');\n",
              "        buttonEl.style.display =\n",
              "          google.colab.kernel.accessAllowed ? 'block' : 'none';\n",
              "\n",
              "        async function convertToInteractive(key) {\n",
              "          const element = document.querySelector('#df-ad476953-6be9-43b6-8cca-969454bacf7f');\n",
              "          const dataTable =\n",
              "            await google.colab.kernel.invokeFunction('convertToInteractive',\n",
              "                                                     [key], {});\n",
              "          if (!dataTable) return;\n",
              "\n",
              "          const docLinkHtml = 'Like what you see? Visit the ' +\n",
              "            '<a target=\"_blank\" href=https://colab.research.google.com/notebooks/data_table.ipynb>data table notebook</a>'\n",
              "            + ' to learn more about interactive tables.';\n",
              "          element.innerHTML = '';\n",
              "          dataTable['output_type'] = 'display_data';\n",
              "          await google.colab.output.renderOutput(dataTable, element);\n",
              "          const docLink = document.createElement('div');\n",
              "          docLink.innerHTML = docLinkHtml;\n",
              "          element.appendChild(docLink);\n",
              "        }\n",
              "      </script>\n",
              "    </div>\n",
              "  </div>\n",
              "  "
            ]
          },
          "metadata": {},
          "execution_count": 55
        }
      ]
    },
    {
      "cell_type": "markdown",
      "source": [
        "# Exploracion de resultados del modelo Desicion Tree Classifier"
      ],
      "metadata": {
        "id": "MBiJka9Mv26y"
      }
    },
    {
      "cell_type": "code",
      "source": [
        "predicted = []\n",
        "incorrect = []\n",
        "for i in range(len(X_test)):\n",
        "  # Get the attributes for this example\n",
        "  example = X_test.iloc[i].values\n",
        "  # Predict the label for this example\n",
        "  y_pred = model.predict([example])\n",
        "  # Append the predicted label to the predicted list\n",
        "  \n",
        "  # Get the true label for this example\n",
        "  y_true = y_test.iloc[i]\n",
        "  \n",
        "  # Compare the predicted label to the true label and append to the correct list if they match\n",
        "  if y_pred == y_true:\n",
        "    predicted.append({'x':example ,'y':y_pred , 'expected': y_true})  \n",
        "    continue\n",
        "  else:\n",
        "    incorrect.append({'x':example ,'y':y_pred , 'expected': y_true})\n",
        "    # reversed = []\n",
        "    # j = 0\n",
        "    # indexes = [55, 1, 2, 3, 55, 55, 6, 7, 55, 55, 55, 55, 55, 55]\n",
        "    # for i, x in enumerate(example):      \n",
        "    #   if x == 1:  \n",
        "    #     key = {v: k for k, v in make_to_label.items()}[int(example[i])]  \n",
        "    #     print(key)      \n",
        "    #     reversed[x]=key  \n",
        "    #     i += 1    \n",
        "    #   else: \n",
        "    #     reversed.append(x)"
      ],
      "metadata": {
        "id": "DkaMoepe7_Nr"
      },
      "execution_count": null,
      "outputs": []
    },
    {
      "cell_type": "code",
      "source": [
        "# len(X_test)\n",
        "print(f'De los {len(X_test)} datos, se predijeron {len(predicted)} correctamente  y {len(incorrect)} incorrectamente')\n"
      ],
      "metadata": {
        "colab": {
          "base_uri": "https://localhost:8080/"
        },
        "id": "iJ5ZAJLzQvfQ",
        "outputId": "34067324-0739-4ebb-9603-243f775e76de"
      },
      "execution_count": null,
      "outputs": [
        {
          "output_type": "stream",
          "name": "stdout",
          "text": [
            "De los 1221 datos, se predijeron 759 correctamente  y 462 incorrectamente\n"
          ]
        }
      ]
    },
    {
      "cell_type": "code",
      "source": [
        "import random\n",
        "j = 0\n",
        "indexes = [55, 1, 2, 3, 55, 55, 6, 7, 55, 55, 55, 55, 55, 55]\n",
        "incorrect = random.randint(0,len(predicted)-1)\n",
        "for i, x in enumerate(predicted[incorrect]['x']):    \n",
        "  if i == 1:\n",
        "    key = {v: k for k, v in make_to_label.items()}[int(x)]\n",
        "    print(key)\n",
        "  elif i == 2:\n",
        "    key = {v: k for k, v in model_to_label.items()}[int(x)]\n",
        "    print(key)\n",
        "      \n",
        "  elif i == 3:\n",
        "    key = {v: k for k, v in vehicle_to_label.items()}[int(x)]\n",
        "    print(key)\n",
        "  elif i == 6:\n",
        "    key = {v: k for k, v in transmition_to_label.items()}[int(x)]\n",
        "    print(key)\n",
        "  elif i == 7:\n",
        "    key = {v: k for k, v in fuel_to_label.items()}[int(x)]\n",
        "    print(key)\n",
        "  else:\n",
        "    print(x)\n",
        "  j += 1  \n",
        "\n",
        "new_dict = {key: value for key, value in predicted[incorrect].items() if key != 'x'}\n",
        "new_dict"
      ],
      "metadata": {
        "colab": {
          "base_uri": "https://localhost:8080/"
        },
        "id": "UDZ-K-c6Jfsx",
        "outputId": "8b24c8a3-8ee5-4621-e565-357fa64ee325"
      },
      "execution_count": null,
      "outputs": [
        {
          "output_type": "stream",
          "name": "stdout",
          "text": [
            "2019.0\n",
            "Porsche\n",
            "Panamera 4 Executive\n",
            "Full-size\n",
            "3.0\n",
            "6.0\n",
            "AM8\n",
            "Z\n",
            "12.4\n",
            "9.0\n",
            "10.9\n",
            "26.0\n",
            "4.0\n",
            "5.0\n"
          ]
        },
        {
          "output_type": "execute_result",
          "data": {
            "text/plain": [
              "{'y': array([253]), 'expected': 253}"
            ]
          },
          "metadata": {},
          "execution_count": 47
        }
      ]
    },
    {
      "cell_type": "code",
      "source": [
        "{'MODEL YEAR': 2019,\n",
        " 'MAKE': random_make_value,\n",
        " 'MODEL': random_model_value,\n",
        " 'VEHICLE CLASS': random_vehicle_value,\n",
        " 'ENGINE SIZE (L)': 2.0,\n",
        " 'Cylinders': 4,\n",
        " 'TRANSMISSION': random_transmition_value,\n",
        " 'FUEL TYPE': random_fuel_value,\n",
        " 'FUEL CONSUMPTION CITY (L/100 km)': 10.8,\n",
        " 'FUEL CONSUMPTION HWY (L/100 km)': 7.6,\n",
        " 'FUEL CONSUMPTION COMB (L/100 km)': 9.3,\n",
        " 'FUEL CONSUMPTION COMB (mpg)': 30,\n",
        " 'CO2 Rating': 5,\n",
        " 'Smog Rating': 5}"
      ],
      "metadata": {
        "id": "XvvgLuhdBs-g"
      },
      "execution_count": null,
      "outputs": []
    },
    {
      "cell_type": "code",
      "source": [
        "# matrix = confusion_matrix(y_test, predictions)\n",
        "# disp = ConfusionMatrixDisplay(matrix )\n",
        "# disp.plot()\n",
        "# plt.show()"
      ],
      "metadata": {
        "id": "xUFXG4d8KgAZ"
      },
      "execution_count": null,
      "outputs": []
    },
    {
      "cell_type": "markdown",
      "source": [
        "## Model con **KNeighborsClassifier**\n",
        "Support Vector Machines"
      ],
      "metadata": {
        "id": "n7_U9qkdWp32"
      }
    },
    {
      "cell_type": "code",
      "source": [
        "from sklearn.neighbors import KNeighborsClassifier"
      ],
      "metadata": {
        "id": "b_UeBS5TWx_u"
      },
      "execution_count": null,
      "outputs": []
    },
    {
      "cell_type": "code",
      "source": [
        "neigh = KNeighborsClassifier()\n",
        "neigh.fit(X_train , y_train)  \n",
        "predictionsKN = neigh.predict(X_test)"
      ],
      "metadata": {
        "id": "wAtNhIT3dbNq"
      },
      "execution_count": null,
      "outputs": []
    },
    {
      "cell_type": "code",
      "source": [
        "scoreKN = accuracy_score(y_test, predictionsKN)\n",
        "print(scoreKN)"
      ],
      "metadata": {
        "colab": {
          "base_uri": "https://localhost:8080/"
        },
        "id": "SWesh7qbevy5",
        "outputId": "0325d73f-d424-4829-9e1f-e39d66c5ac70"
      },
      "execution_count": null,
      "outputs": [
        {
          "output_type": "stream",
          "name": "stdout",
          "text": [
            "0.20393120393120392\n"
          ]
        }
      ]
    },
    {
      "cell_type": "code",
      "source": [
        "from sklearn.svm import SVC\n",
        "clf_SVC = SVC()\n",
        "clf_SVC.fit(X_train, y_train)\n",
        "predictions_SVC = clf_SVC.predict(X_test)\n",
        "clf_SVC.score(X_test, predictions_SVC)"
      ],
      "metadata": {
        "colab": {
          "base_uri": "https://localhost:8080/"
        },
        "id": "hTW-P95AJffX",
        "outputId": "277986ca-9820-467f-8615-189578f2b075"
      },
      "execution_count": null,
      "outputs": [
        {
          "output_type": "execute_result",
          "data": {
            "text/plain": [
              "1.0"
            ]
          },
          "metadata": {},
          "execution_count": 20
        }
      ]
    },
    {
      "cell_type": "markdown",
      "source": [
        "# Confussion Matrix"
      ],
      "metadata": {
        "id": "hmragnpPc4n0"
      }
    },
    {
      "cell_type": "code",
      "source": [
        "from sklearn.metrics import classification_report\n",
        "cm = confusion_matrix(y_test, predictions_SVC, labels=clf_SVC.classes_)\n",
        "disp = ConfusionMatrixDisplay(confusion_matrix=cm,\n",
        "                 display_labels=clf_SVC.classes_)\n",
        "# disp.plot()\n",
        "# plt.show()\n",
        "# print(classification_report(y_test, predictions_SVC))"
      ],
      "metadata": {
        "id": "zovcKpUFc3Sc"
      },
      "execution_count": null,
      "outputs": []
    },
    {
      "cell_type": "code",
      "source": [
        "scoreSVC = accuracy_score(y_test, predictions_SVC)\n",
        "scoreSVC\n",
        "# clf_SVC.score(X_test, predictions_SVC)\n",
        "scoreSVC*100"
      ],
      "metadata": {
        "colab": {
          "base_uri": "https://localhost:8080/"
        },
        "id": "G9cS3tZSOQqK",
        "outputId": "5eff787c-1eb4-4b29-a86a-86a8380d6c46"
      },
      "execution_count": null,
      "outputs": [
        {
          "output_type": "execute_result",
          "data": {
            "text/plain": [
              "1.4742014742014742"
            ]
          },
          "metadata": {},
          "execution_count": 195
        }
      ]
    },
    {
      "cell_type": "markdown",
      "source": [
        "# Modelo con RandomForestClassifier\n"
      ],
      "metadata": {
        "id": "2L-VFF5qwIve"
      }
    },
    {
      "cell_type": "code",
      "source": [
        "from sklearn.ensemble import RandomForestClassifier\n",
        "clf_Rand = RandomForestClassifier(random_state=0) # \n",
        "clf_Rand.fit(X_train, y_train)\n",
        "predictions_Rand = clf_Rand.predict(X_test)\n",
        "scoreRand = accuracy_score(y_test, predictions_Rand)\n",
        "scoreRand*100 # "
      ],
      "metadata": {
        "colab": {
          "base_uri": "https://localhost:8080/"
        },
        "id": "-u6GTlGRV0tG",
        "outputId": "19dcbd52-08ad-47ec-876c-aa529edb1386"
      },
      "execution_count": null,
      "outputs": [
        {
          "output_type": "execute_result",
          "data": {
            "text/plain": [
              "68.38656838656838"
            ]
          },
          "metadata": {},
          "execution_count": 73
        }
      ]
    }
  ]
}